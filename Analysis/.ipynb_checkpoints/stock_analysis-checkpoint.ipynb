{
 "cells": [
  {
   "cell_type": "code",
   "execution_count": 1,
   "id": "8fe55e14-cc78-42ab-b2b5-092a25f3649a",
   "metadata": {},
   "outputs": [
    {
     "ename": "ModuleNotFoundError",
     "evalue": "No module named 'Dash'",
     "output_type": "error",
     "traceback": [
      "\u001b[1;31m---------------------------------------------------------------------------\u001b[0m",
      "\u001b[1;31mModuleNotFoundError\u001b[0m                       Traceback (most recent call last)",
      "Cell \u001b[1;32mIn [1], line 7\u001b[0m\n\u001b[0;32m      5\u001b[0m \u001b[38;5;28;01mimport\u001b[39;00m \u001b[38;5;21;01mplotly\u001b[39;00m\u001b[38;5;21;01m.\u001b[39;00m\u001b[38;5;21;01mgraph_objects\u001b[39;00m \u001b[38;5;28;01mas\u001b[39;00m \u001b[38;5;21;01mgo\u001b[39;00m\n\u001b[0;32m      6\u001b[0m \u001b[38;5;28;01mfrom\u001b[39;00m \u001b[38;5;21;01mplotly\u001b[39;00m\u001b[38;5;21;01m.\u001b[39;00m\u001b[38;5;21;01msubplots\u001b[39;00m \u001b[38;5;28;01mimport\u001b[39;00m make_subplots\n\u001b[1;32m----> 7\u001b[0m \u001b[38;5;28;01mimport\u001b[39;00m \u001b[38;5;21;01mDash\u001b[39;00m\n\u001b[0;32m      8\u001b[0m \u001b[38;5;28;01mimport\u001b[39;00m \u001b[38;5;21;01mdash_core_components\u001b[39;00m \u001b[38;5;28;01mas\u001b[39;00m \u001b[38;5;21;01mdcc\u001b[39;00m\n\u001b[0;32m      9\u001b[0m \u001b[38;5;28;01mimport\u001b[39;00m \u001b[38;5;21;01mdash_html_components\u001b[39;00m \u001b[38;5;28;01mas\u001b[39;00m \u001b[38;5;21;01mhtml\u001b[39;00m\n",
      "\u001b[1;31mModuleNotFoundError\u001b[0m: No module named 'Dash'"
     ]
    }
   ],
   "source": [
    "import pandas as pd\n",
    "import numpy as np\n",
    "import matplotlib.pyplot as plt\n",
    "import plotly.express as px\n",
    "import plotly.graph_objects as go\n",
    "from plotly.subplots import make_subplots\n",
    "import Dash\n",
    "import dash_core_components as dcc\n",
    "import dash_html_components as html\n",
    "import datetime as dt"
   ]
  },
  {
   "cell_type": "code",
   "execution_count": null,
   "id": "11b4e5b4-a49f-436a-9e8f-ed44aff5e07e",
   "metadata": {},
   "outputs": [],
   "source": [
    "test = \"stock_prices/A.csv\""
   ]
  },
  {
   "cell_type": "code",
   "execution_count": null,
   "id": "de9dd552-7e75-4327-9366-44024e317875",
   "metadata": {},
   "outputs": [],
   "source": [
    "data = pd.read_csv(test, parse_dates=[\"Date\"])"
   ]
  },
  {
   "cell_type": "code",
   "execution_count": null,
   "id": "2ff41c87-70ee-46cd-812d-3ca40bdcfc65",
   "metadata": {},
   "outputs": [],
   "source": [
    "data.head()"
   ]
  },
  {
   "cell_type": "code",
   "execution_count": null,
   "id": "8356d72c-3c9a-45b2-bd0a-87a5db9b1acc",
   "metadata": {},
   "outputs": [],
   "source": [
    "data.info()"
   ]
  },
  {
   "cell_type": "code",
   "execution_count": null,
   "id": "e91ac5bd-0520-4374-94c0-9adbf3c43956",
   "metadata": {},
   "outputs": [],
   "source": [
    "year_1999_to_2009 = data[data.Date.dt.year.between(1999, 2009)]"
   ]
  },
  {
   "cell_type": "code",
   "execution_count": null,
   "id": "d8d43410-9fe2-4a78-a34c-f4778e3dfe83",
   "metadata": {},
   "outputs": [],
   "source": [
    "year_1999_to_2009.set_index(\"Date\")"
   ]
  },
  {
   "cell_type": "code",
   "execution_count": null,
   "id": "0cd1767a-b8ff-4579-9303-146ffb8c104b",
   "metadata": {},
   "outputs": [],
   "source": [
    "year_1999_to_2009"
   ]
  },
  {
   "cell_type": "code",
   "execution_count": null,
   "id": "ac10e314-d0d1-4814-964f-e23ae2995dc5",
   "metadata": {},
   "outputs": [],
   "source": [
    "fig = make_subplots(\n",
    "    rows=4, cols=1,\n",
    "    shared_xaxes=True,\n",
    "    vertical_spacing=0.03,\n",
    "    specs=[[{\"type\":\"table\"}],\n",
    "           [{\"type\":\"scatter\"}],\n",
    "           [{\"type\":\"scatter\"}],\n",
    "           [{\"type\":\"scatter\"}]]\n",
    ")\n",
    "\n",
    "fig.add_trace(\n",
    "    go.Scatter(\n",
    "        x=year_1999_to_2009.Date,\n",
    "        y=year_1999_to_2009.Volume,\n",
    "        mode=\"lines\",\n",
    "        name=\"Volume\",\n",
    "    ),\n",
    "    row=4, col=1\n",
    ")\n",
    "\n",
    "fig.add_trace(\n",
    "    go.Scatter(\n",
    "        x=year_1999_to_2009.Date,\n",
    "        y=year_1999_to_2009.Open,\n",
    "        mode=\"lines\",\n",
    "        name=\"Opening Price\",\n",
    "    ),\n",
    "    row=3, col=1\n",
    ")\n",
    "\n",
    "fig.add_trace(\n",
    "    go.Scatter(\n",
    "        x=year_1999_to_2009.Date,\n",
    "        y=year_1999_to_2009.Close,\n",
    "        mode=\"lines\",\n",
    "        name=\"Closing Price\",\n",
    "    ),\n",
    "    row=2, col=1\n",
    ")\n",
    "\n",
    "fig.add_trace(\n",
    "    go.Table(\n",
    "        header=dict(\n",
    "            values=[\"Date\", \"Open\", \"High\",\n",
    "                    \"Low\", \"Close\", \"Adj Close\",\n",
    "                    \"Volume\"],\n",
    "            font=dict(size=10),\n",
    "            align=\"left\"\n",
    "        ),\n",
    "        cells=dict(\n",
    "            values=[year_1999_to_2009[k].tolist() for k in year_1999_to_2009.columns],\n",
    "            align = \"left\")\n",
    "    ),\n",
    "    row=1, col=1\n",
    ")\n",
    "\n",
    "fig.update_layout(\n",
    "    height=900,\n",
    "    showlegend=True,\n",
    "    title_text=\"Opening and Closing\", template=\"plotly_dark\",\n",
    ")\n",
    "\n",
    "fig.show()"
   ]
  },
  {
   "cell_type": "code",
   "execution_count": null,
   "id": "237c8839-55ac-4262-a890-86fdb39421d5",
   "metadata": {},
   "outputs": [],
   "source": [
    "fig = make_subplots(\n",
    "    rows=4, cols=1,\n",
    "    shared_xaxes=True,\n",
    "    vertical_spacing=0.03,\n",
    "    specs=[[{\"type\":\"table\"}],\n",
    "           [{\"type\":\"scatter\"}],\n",
    "           [{\"type\":\"scatter\"}],\n",
    "           [{\"type\":\"scatter\"}]]\n",
    ")\n",
    "\n",
    "fig.add_trace(\n",
    "    go.Scatter(\n",
    "        x=year_1999_to_2009.Date,\n",
    "        y=year_1999_to_2009.Volume,\n",
    "        mode=\"lines\",\n",
    "        name=\"Volume\",\n",
    "    ),\n",
    "    row=4, col=1\n",
    ")\n",
    "\n",
    "fig.add_trace(\n",
    "    go.Scatter(\n",
    "        x=year_1999_to_2009.Date,\n",
    "        y=year_1999_to_2009.Open,\n",
    "        mode=\"lines\",\n",
    "        name=\"Opening Price\",\n",
    "    ),\n",
    "    row=3, col=1\n",
    ")\n",
    "\n",
    "fig.add_trace(\n",
    "    go.Scatter(\n",
    "        x=year_1999_to_2009.Date,\n",
    "        y=year_1999_to_2009.Close,\n",
    "        mode=\"lines\",\n",
    "        name=\"Closing Price\",\n",
    "    ),\n",
    "    row=2, col=1\n",
    ")\n",
    "\n",
    "fig.add_trace(\n",
    "    go.Table(\n",
    "        header=dict(\n",
    "            values=[\"Date\", \"Open\", \"High\",\n",
    "                    \"Low\", \"Close\", \"Adj Close\",\n",
    "                    \"Volume\"],\n",
    "            font=dict(size=10),\n",
    "            align=\"left\"\n",
    "        ),\n",
    "        cells=dict(\n",
    "            values=[year_1999_to_2009[k].tolist() for k in year_1999_to_2009.columns],\n",
    "            align = \"left\")\n",
    "    ),\n",
    "    row=1, col=1\n",
    ")\n",
    "\n",
    "fig.update_layout(\n",
    "    height=900,\n",
    "    showlegend=True,\n",
    "    title_text=\"Opening and Closing\", template=\"plotly_dark\",\n",
    ")"
   ]
  },
  {
   "cell_type": "code",
   "execution_count": null,
   "id": "9449cb2b-8491-4456-8776-026d8aebacae",
   "metadata": {},
   "outputs": [],
   "source": []
  },
  {
   "cell_type": "code",
   "execution_count": null,
   "id": "d5ae3dd3-e8b0-477b-a12b-40451d80d1ee",
   "metadata": {},
   "outputs": [],
   "source": [
    "fig = px.line(year_1999_to_2009, x=year_1999_to_2009.Date, y=[\"Open\", \"Close\", \"High\", \"Low\"], height=700, template=\"plotly_dark\")\n",
    "\n",
    "fig.show()"
   ]
  },
  {
   "cell_type": "code",
   "execution_count": null,
   "id": "789abc4d-7e0f-40be-8065-3e01f8293328",
   "metadata": {},
   "outputs": [],
   "source": []
  }
 ],
 "metadata": {
  "kernelspec": {
   "display_name": "Python 3 (ipykernel)",
   "language": "python",
   "name": "python3"
  },
  "language_info": {
   "codemirror_mode": {
    "name": "ipython",
    "version": 3
   },
   "file_extension": ".py",
   "mimetype": "text/x-python",
   "name": "python",
   "nbconvert_exporter": "python",
   "pygments_lexer": "ipython3",
   "version": "3.10.1"
  }
 },
 "nbformat": 4,
 "nbformat_minor": 5
}
